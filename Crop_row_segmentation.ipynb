{
  "nbformat": 4,
  "nbformat_minor": 0,
  "metadata": {
    "colab": {
      "provenance": []
    },
    "kernelspec": {
      "name": "python3",
      "display_name": "Python 3"
    },
    "language_info": {
      "name": "python"
    },
    "gpuClass": "standard"
  },
  "cells": [
    {
      "cell_type": "code",
      "source": [
        "#importing libraries\n",
        "import os\n",
        "import cv2\n",
        "import numpy as np\n",
        "import matplotlib.pyplot as plt\n",
        "from skimage.filters import threshold_otsu"
      ],
      "metadata": {
        "id": "kDaftiwp8TtK"
      },
      "execution_count": 25,
      "outputs": []
    },
    {
      "cell_type": "code",
      "source": [
        "# setting up input and output folder\n",
        "input_folder=\"/content/drive/MyDrive/krishaka software/Images\"\n",
        "output_folder=\"/content/drive/MyDrive/krishaka software/segmented images\"\n",
        "input_files = os.listdir(input_folder)"
      ],
      "metadata": {
        "id": "bSeEU5vV_CyP"
      },
      "execution_count": 26,
      "outputs": []
    },
    {
      "cell_type": "code",
      "source": [
        "#defining necessary functions\n",
        "def filter_image(image, mask):\n",
        "\n",
        "    r = image[:,:,0] * mask\n",
        "    g = image[:,:,1] * mask\n",
        "    b = image[:,:,2] * mask\n",
        "\n",
        "    return np.dstack([r,g,b])"
      ],
      "metadata": {
        "id": "-PTh5ban_heb"
      },
      "execution_count": 27,
      "outputs": []
    },
    {
      "cell_type": "code",
      "source": [
        "for filename in input_files:\n",
        "  img_path = os.path.join(input_folder, filename)\n",
        "# Load the input image\n",
        "  img = cv2.imread(img_path)\n",
        "\n",
        "# Convert the image to grayscale\n",
        "  b,g,r = cv2.split(img)\n",
        "  gray=2*g-b-r\n",
        "\n",
        "  #plt.imshow(gray) \n",
        "  thresh = threshold_otsu(gray)\n",
        "  img_otsu  = gray > thresh\n",
        "\n",
        "  #plt.imshow(img_otsu)\n",
        "  filtered = filter_image(img, img_otsu)\n",
        "  output_path = os.path.join(output_folder, filename)\n",
        "  cv2.imwrite(output_path, filtered)"
      ],
      "metadata": {
        "id": "YHNmgyLB_xPw"
      },
      "execution_count": 28,
      "outputs": []
    }
  ]
}